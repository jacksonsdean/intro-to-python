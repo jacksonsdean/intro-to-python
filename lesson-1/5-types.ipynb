{
 "cells": [
  {
   "cell_type": "markdown",
   "metadata": {},
   "source": [
    "# Variable Types"
   ]
  },
  {
   "cell_type": "markdown",
   "metadata": {},
   "source": [
    "All variables have a \"type\". We've already learned about strings. Let's learn two other types of variables: \n",
    "- Integers\n",
    "- Floats"
   ]
  },
  {
   "cell_type": "markdown",
   "metadata": {},
   "source": [
    "## Integers\n"
   ]
  },
  {
   "cell_type": "markdown",
   "metadata": {},
   "source": [
    "Integers are whole numbers. In Python, integers are represented with the \"int\" type."
   ]
  },
  {
   "cell_type": "code",
   "execution_count": null,
   "metadata": {},
   "outputs": [],
   "source": [
    "# for example:\n",
    "first_integer = 5\n",
    "second_integer = 10\n",
    "\n",
    "# we can perform arithmetic operations on integers:\n",
    "sum_of_integers = first_integer + second_integer\n",
    "print(\"The sum of \", first_integer, \" and \", second_integer, \" is \", sum_of_integers)"
   ]
  },
  {
   "cell_type": "code",
   "execution_count": null,
   "metadata": {},
   "outputs": [],
   "source": [
    "# Try defining a function that takes in two integers multiplies them. Return the result.\n",
    "..."
   ]
  },
  {
   "cell_type": "code",
   "execution_count": null,
   "metadata": {},
   "outputs": [],
   "source": [
    "# Make sure your function works by calling it and printing the return value:\n",
    "..."
   ]
  },
  {
   "cell_type": "markdown",
   "metadata": {},
   "source": [
    "# Floats"
   ]
  },
  {
   "cell_type": "markdown",
   "metadata": {},
   "source": [
    "Floats (\"floating point numbers\") are numbers with a decimal point."
   ]
  },
  {
   "cell_type": "code",
   "execution_count": null,
   "metadata": {},
   "outputs": [],
   "source": [
    "# for example:\n",
    "first_float = 5.1\n",
    "second_float = 10.1\n",
    "\n",
    "# we can perform arithmetic operations on floats as well:\n",
    "sum_of_floats = first_float + second_float\n",
    "print(\"The sum of \", first_float, \" and \", second_float, \" is \", sum_of_floats)"
   ]
  },
  {
   "cell_type": "code",
   "execution_count": null,
   "metadata": {},
   "outputs": [],
   "source": [
    "# the division of two floats returns a float:\n",
    "print(5.0/2.0) "
   ]
  },
  {
   "cell_type": "code",
   "execution_count": null,
   "metadata": {},
   "outputs": [],
   "source": [
    "# the division of two integers returns a float.\n",
    "print(5/2) "
   ]
  },
  {
   "cell_type": "code",
   "execution_count": null,
   "metadata": {},
   "outputs": [],
   "source": [
    "# Try defining a function that takes in two integers, a and b. Return the sentence \"a is X% of b\" where X is the result of 100*(a/b).\n",
    "# For example, if a is 2 and b is 4, return \"2 is 50% of 4\"\n",
    "# replace ... below\n",
    "\n",
    "def percent(a, b):\n",
    "    return ..."
   ]
  },
  {
   "cell_type": "code",
   "execution_count": null,
   "metadata": {},
   "outputs": [],
   "source": [
    "# Test out your function\n",
    "print(percent(2, 4))\n",
    "print(percent(50, 100))\n",
    "print(percent(18, 64))"
   ]
  },
  {
   "cell_type": "markdown",
   "metadata": {},
   "source": [
    "# TypeErrors"
   ]
  },
  {
   "cell_type": "markdown",
   "metadata": {},
   "source": [
    "You may have run into a \"TypeError\" when you tried to create the function above. \n",
    "\n",
    "`TypeError: unsupported operand type(s) for +: 'int' and 'str'`\n",
    "\n",
    "TypeErrors tell you that you are using the incorrect type for a variable. In this case, the error is telling you that it is impossible to add a string to an integer. "
   ]
  },
  {
   "cell_type": "code",
   "execution_count": null,
   "metadata": {},
   "outputs": [],
   "source": [
    "# think about the difference between these two statements:\n",
    "print(2 + 2)\n",
    "# and\n",
    "print(\"2\" + \"2\")\n",
    "\n",
    "# does the output make sense? what is the difference between the two?"
   ]
  },
  {
   "cell_type": "markdown",
   "metadata": {},
   "source": [
    "## Casting"
   ]
  },
  {
   "cell_type": "code",
   "execution_count": null,
   "metadata": {},
   "outputs": [],
   "source": [
    "# you can \"cast\" one type of data to another type of data.\n",
    "# for example, you can cast a string to an integer.\n",
    "\n",
    "string_variable = \"4\"\n",
    "print(string_variable, type(string_variable))\n",
    "\n",
    "# Cast with int(___)\n",
    "integer_variable = int(string_variable)\n",
    "print(integer_variable, type(integer_variable))\n",
    "\n",
    "# type() is a function that returns the type of a variable.\n",
    "\n",
    "# even though the value of the variable is the same, the type of the variable is different after a cast."
   ]
  },
  {
   "cell_type": "code",
   "execution_count": null,
   "metadata": {},
   "outputs": [],
   "source": [
    "# Most types have a cast function that can be used to convert the variable to that type.\n",
    "\n",
    "float_variable = 2.5\n",
    "print(float_variable, type(float_variable))\n",
    "\n",
    "# cast to an int\n",
    "integer_variable = int(float_variable)\n",
    "print(integer_variable, type(integer_variable))"
   ]
  },
  {
   "cell_type": "markdown",
   "metadata": {},
   "source": [
    "Notice that the type of the variable is now an integer, but it's value has also changed. When you cast a float to an integer, the value is rounded down (truncated) because the decimal is lost."
   ]
  },
  {
   "cell_type": "markdown",
   "metadata": {},
   "source": [
    "## Exercise: Calculator\n",
    "\n",
    "Try making an add function that adds two numbers (either floats or ints). Replace the ... below with your code. The \"input\" function will ask for numbers by opening a popup in vscode.\n",
    "\n",
    "Remember that you will have to use casting to avoid TypeErrors\n"
   ]
  },
  {
   "cell_type": "code",
   "execution_count": null,
   "metadata": {},
   "outputs": [],
   "source": [
    "# ask for input from the user:\n",
    "first_number = input(\"Enter a first number: \")\n",
    "second_number = input(\"Enter a second number: \")\n",
    "\n",
    "def add(a, b):\n",
    "    ... # replace with your code, remember to return the result\n",
    "\n",
    "\n",
    "# Testing your function:\n",
    "result = add(first_number, second_number)\n",
    "print(\"The sum of \", first_number, \" and \", second_number, \" is \", result)"
   ]
  },
  {
   "cell_type": "markdown",
   "metadata": {},
   "source": [
    "What happens *if* you input something other than a number? How can we fix this?\n",
    "\n",
    "...we need conditionals!"
   ]
  }
 ],
 "metadata": {
  "interpreter": {
   "hash": "411198d5bc7eabb382a561a9ebe60c48cf1917e23127c9b679f97103316c7ee5"
  },
  "kernelspec": {
   "display_name": "Python 3.9.5 ('base')",
   "language": "python",
   "name": "python3"
  },
  "language_info": {
   "codemirror_mode": {
    "name": "ipython",
    "version": 3
   },
   "file_extension": ".py",
   "mimetype": "text/x-python",
   "name": "python",
   "nbconvert_exporter": "python",
   "pygments_lexer": "ipython3",
   "version": "3.9.5"
  },
  "orig_nbformat": 4
 },
 "nbformat": 4,
 "nbformat_minor": 2
}
