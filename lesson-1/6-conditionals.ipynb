{
 "cells": [
  {
   "cell_type": "markdown",
   "metadata": {},
   "source": [
    "# Booleans"
   ]
  },
  {
   "cell_type": "markdown",
   "metadata": {},
   "source": [
    "Booleans (bools) are either True or False. "
   ]
  },
  {
   "cell_type": "code",
   "execution_count": null,
   "metadata": {},
   "outputs": [],
   "source": [
    "pen_mightier_than_sword = True\n",
    "print(\"Is the pen mightier than the sword? \" + str(pen_mightier_than_sword))\n",
    "\n",
    "j_in_table = False\n",
    "print(\"Is J in the periodic table? \" + str(j_in_table))"
   ]
  },
  {
   "cell_type": "code",
   "execution_count": null,
   "metadata": {},
   "outputs": [],
   "source": [
    "# cast to a bool like this:\n",
    "\n",
    "string_var = \"True\" # notice the capital T\n",
    "\n",
    "bool_var = bool(string_var)\n",
    "\n",
    "print(bool_var)"
   ]
  },
  {
   "cell_type": "markdown",
   "metadata": {},
   "source": [
    "Other variables can be cast to booleans, although they are less intuitive."
   ]
  },
  {
   "cell_type": "code",
   "execution_count": null,
   "metadata": {},
   "outputs": [],
   "source": [
    "# integers and floats other than 0 are True\n",
    "int_var = 10\n",
    "bool_var = bool(int_var)\n",
    "print(int_var, bool_var)\n",
    "\n",
    "int_var = 1\n",
    "bool_var = bool(int_var)\n",
    "print(int_var, bool_var)\n",
    "\n",
    "int_var = -1337\n",
    "bool_var = bool(int_var)\n",
    "print(int_var, bool_var)\n",
    "\n",
    "float_var = 14.8\n",
    "bool_var = bool(float_var)\n",
    "print(float_var, bool_var)\n",
    "\n",
    "print()\n",
    "\n",
    "int_var = 0\n",
    "bool_var = bool(int_var)\n",
    "print(int_var, bool_var)\n",
    "\n",
    "float_var = 0.0\n",
    "bool_var = bool(float_var)\n",
    "print(float_var, bool_var)"
   ]
  },
  {
   "cell_type": "code",
   "execution_count": null,
   "metadata": {},
   "outputs": [],
   "source": [
    "# strings are True if they contain at least one character\n",
    "string_var = \"Hello\"\n",
    "bool_var = bool(string_var)\n",
    "print(string_var, bool_var)\n",
    "\n",
    "string_var = \"\"\n",
    "bool_var = bool(string_var)\n",
    "print(string_var, bool_var)"
   ]
  },
  {
   "cell_type": "markdown",
   "metadata": {},
   "source": [
    "# Conditionals and Logical Operators"
   ]
  },
  {
   "cell_type": "markdown",
   "metadata": {},
   "source": [
    "Logical operators can be used on booleans to produce new booleans.\n",
    "\n",
    "They are:\n",
    "\n",
    "- and\n",
    "- or\n",
    "- not"
   ]
  },
  {
   "cell_type": "code",
   "execution_count": null,
   "metadata": {},
   "outputs": [],
   "source": [
    "# Logical AND:\n",
    "\n",
    "print(\"True  and True  : \" + str(True and True))\n",
    "print(\"False and True  : \" + str(False and True))\n",
    "print(\"False and False : \" + str(False and False))\n",
    "print(\"True  and False : \" + str(True and False))\n",
    "\n",
    "# btw, this type of table is referred to as a truth table."
   ]
  },
  {
   "cell_type": "code",
   "execution_count": null,
   "metadata": {},
   "outputs": [],
   "source": [
    "# Logical OR:\n",
    "\n",
    "print(\"True  or True  : \" + str(True or True))\n",
    "print(\"False or True  : \" + str(False or True))\n",
    "print(\"False or False : \" + str(False or False))\n",
    "print(\"True  or False : \" + str(True or False))"
   ]
  },
  {
   "cell_type": "code",
   "execution_count": null,
   "metadata": {},
   "outputs": [],
   "source": [
    "# Not can be used to invert a boolean value:\n",
    "print(\"Not True  : \" + str(not True))\n",
    "print(\"Not False : \" + str(not False))"
   ]
  },
  {
   "cell_type": "markdown",
   "metadata": {},
   "source": [
    "## If statements"
   ]
  },
  {
   "cell_type": "markdown",
   "metadata": {},
   "source": [
    "If statements can differentially execute code based on a *conditional expression*"
   ]
  },
  {
   "cell_type": "code",
   "execution_count": null,
   "metadata": {},
   "outputs": [],
   "source": [
    "do_the_thing = False\n",
    "\n",
    "if do_the_thing:\n",
    "    print(\"Doing the thing!\")\n",
    "\n",
    "# Nothing happens because do_the_thing is False."
   ]
  },
  {
   "cell_type": "code",
   "execution_count": null,
   "metadata": {},
   "outputs": [],
   "source": [
    "do_the_thing = True\n",
    "\n",
    "if do_the_thing:\n",
    "    print(\"Doing the thing!\")\n"
   ]
  },
  {
   "cell_type": "markdown",
   "metadata": {},
   "source": [
    "else can be used after an if statement to do something if the first expression is False"
   ]
  },
  {
   "cell_type": "code",
   "execution_count": null,
   "metadata": {},
   "outputs": [],
   "source": [
    "do_the_thing = False\n",
    "\n",
    "if do_the_thing:\n",
    "    print(\"Doing the thing!\")\n",
    "else:\n",
    "    print(\"Not doing the thing!\")\n",
    "\n",
    "# try changing the value of do_the_thing to see what happens."
   ]
  },
  {
   "cell_type": "markdown",
   "metadata": {},
   "source": [
    "We can combine logical operators and if/else statements"
   ]
  },
  {
   "cell_type": "code",
   "execution_count": null,
   "metadata": {},
   "outputs": [],
   "source": [
    "this = False\n",
    "that = True\n",
    "\n",
    "if this and that:\n",
    "    print(\"This and that are true!\") \n",
    "else:\n",
    "    print(\"Either this or that is false!\")"
   ]
  },
  {
   "cell_type": "markdown",
   "metadata": {},
   "source": [
    "elif can be used to chain if/else statements together"
   ]
  },
  {
   "cell_type": "code",
   "execution_count": null,
   "metadata": {},
   "outputs": [],
   "source": [
    "x = False\n",
    "y = False\n",
    "z = True\n",
    "\n",
    "if x:\n",
    "    print(\"x is true!\")\n",
    "elif y:\n",
    "    print(\"x is not true and y is true!\")\n",
    "elif z:\n",
    "    print(\"x is not true and y is not true and z is true!\")\n",
    "else:\n",
    "    print(\"x is not true and y is not true and z is not true!\")\n",
    "\n",
    "# take a minute to play around with the values of x, y, and z.\n",
    "# does the flow make sense?"
   ]
  },
  {
   "cell_type": "markdown",
   "metadata": {},
   "source": [
    "## Comparison operators"
   ]
  },
  {
   "cell_type": "markdown",
   "metadata": {},
   "source": [
    "We can use comparison operators to return a bool based on the values of our operands.\n",
    "\n",
    "The comparison operators are:\n",
    "\n",
    "- ==   (equal) \n",
    "- !=   (not equal)\n",
    "- \\>   (greater than) \n",
    "- <    (less than) \n",
    "- <=   (less than or equal to)\n",
    "- \\>=  (greater than or equal to)\n"
   ]
  },
  {
   "cell_type": "code",
   "execution_count": null,
   "metadata": {},
   "outputs": [],
   "source": [
    "# Here's some examples:\n",
    "print(\"1.\", 5 < 6)\n",
    "print(\"2.\", 5 > 6)\n",
    "print(\"3.\", 5 == 6)\n",
    "print(\"4.\", 5 == 5)\n",
    "print(\"5.\", 5 != 6)\n",
    "print(\"6.\", \"hello\" != \"goodbye\")\n",
    "print(\"7.\", False == 0) # this one is a bit strange but remember, bool(0) == False\n",
    "print(\"8.\", True == 1)"
   ]
  },
  {
   "cell_type": "markdown",
   "metadata": {},
   "source": [
    "We can combine comparison operators with if statements as well"
   ]
  },
  {
   "cell_type": "code",
   "execution_count": null,
   "metadata": {},
   "outputs": [],
   "source": [
    "x = 5\n",
    "\n",
    "if x < 6:\n",
    "    print(\"x is less than 6!\")\n",
    "elif x > 6:\n",
    "    print(\"x is greater than 6!\")\n",
    "\n",
    "# try playing with the values of x."
   ]
  },
  {
   "cell_type": "markdown",
   "metadata": {},
   "source": [
    "### Exercise"
   ]
  },
  {
   "cell_type": "markdown",
   "metadata": {},
   "source": [
    "Write a function takes in a variable, x, and either returns x if x is greater than or equal to 0, or returns 0 if x is less than 0\n",
    "\n",
    "For example:\n",
    "\n",
    "- in: 9, out: 9\n",
    "- in -150, out: 0"
   ]
  },
  {
   "cell_type": "code",
   "execution_count": null,
   "metadata": {},
   "outputs": [],
   "source": [
    "def rectified(x):\n",
    "    ... # write your code here, use if/else statements"
   ]
  },
  {
   "cell_type": "code",
   "execution_count": null,
   "metadata": {},
   "outputs": [],
   "source": [
    "# Plotting your function to check for correctness:\n",
    "import matplotlib.pyplot as plt\n",
    "plt.plot([rectified(x) for x in range(-10, 10)])\n",
    "plt.show()"
   ]
  },
  {
   "cell_type": "markdown",
   "metadata": {},
   "source": [
    "We can check if a variable is of a certain type by using the `isinstance(variable, type)` built-in function."
   ]
  },
  {
   "cell_type": "code",
   "execution_count": null,
   "metadata": {},
   "outputs": [],
   "source": [
    "# for example:\n",
    "print(\"a string is a str?\", isinstance(\"a string\", str))\n",
    "print(\"a string is a bool?\", isinstance(\"a string\", bool))"
   ]
  },
  {
   "cell_type": "markdown",
   "metadata": {},
   "source": [
    "## Another exercise"
   ]
  },
  {
   "cell_type": "markdown",
   "metadata": {},
   "source": [
    "From: https://pynative.com/python-basic-exercise-for-beginners/"
   ]
  },
  {
   "cell_type": "markdown",
   "metadata": {},
   "source": [
    "Given two integer numbers return their product only if the product is greater than 1000, else return their sum."
   ]
  },
  {
   "cell_type": "code",
   "execution_count": null,
   "metadata": {},
   "outputs": [],
   "source": [
    "... # write your code here"
   ]
  }
 ],
 "metadata": {
  "interpreter": {
   "hash": "411198d5bc7eabb382a561a9ebe60c48cf1917e23127c9b679f97103316c7ee5"
  },
  "kernelspec": {
   "display_name": "Python 3.9.5 ('base')",
   "language": "python",
   "name": "python3"
  },
  "language_info": {
   "codemirror_mode": {
    "name": "ipython",
    "version": 3
   },
   "file_extension": ".py",
   "mimetype": "text/x-python",
   "name": "python",
   "nbconvert_exporter": "python",
   "pygments_lexer": "ipython3",
   "version": "3.9.5"
  },
  "orig_nbformat": 4
 },
 "nbformat": 4,
 "nbformat_minor": 2
}
