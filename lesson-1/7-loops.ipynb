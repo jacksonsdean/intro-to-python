{
 "cells": [
  {
   "cell_type": "markdown",
   "metadata": {},
   "source": [
    "# Loops"
   ]
  },
  {
   "cell_type": "markdown",
   "metadata": {},
   "source": [
    "Loops help us follow the Don't Repeat Yourself (DRY) principle.\n",
    "\n",
    "If you're doing something more than once, put it in a function or loop\n",
    "\n",
    "There are two main types of loops in Python:\n",
    "- for\n",
    "- while"
   ]
  },
  {
   "cell_type": "markdown",
   "metadata": {},
   "source": [
    "## Lists"
   ]
  },
  {
   "cell_type": "markdown",
   "metadata": {},
   "source": [
    "For loops repeat the same block of code by iterating over a sequence"
   ]
  },
  {
   "cell_type": "markdown",
   "metadata": {},
   "source": [
    "First it will help us to define sequences in Python. The most common type of sequence is a list\n",
    "\n",
    "Lists are variables of the list type, and they store variables of any type (including other lists)"
   ]
  },
  {
   "cell_type": "code",
   "execution_count": null,
   "metadata": {},
   "outputs": [],
   "source": [
    "# we can declare lists like this:\n",
    "a_list_of_ints = [1, 2, 3, 4, 5]\n",
    "print(a_list_of_ints)"
   ]
  },
  {
   "cell_type": "markdown",
   "metadata": {},
   "source": [
    "`range(start, stop, step)` is a built-in function that returns an iterable sequence between start and stop, with step size step. You can also just use `range(stop)` to return a sequence between 0 and stop. Start is inclusive but stop is exclusive i.e. [start, stop) "
   ]
  },
  {
   "cell_type": "code",
   "execution_count": null,
   "metadata": {},
   "outputs": [],
   "source": [
    "a_range = range(1, 6)\n",
    "print(a_range)\n",
    "# notice that this is not a list, but a range.\n",
    "\n",
    "# we can convert a range to a list like this:\n",
    "a_list_of_ints = list(a_range)\n",
    "print(a_list_of_ints)"
   ]
  },
  {
   "cell_type": "code",
   "execution_count": null,
   "metadata": {},
   "outputs": [],
   "source": [
    "\n",
    "# our comparison operators work on lists too.\n",
    "print(a_list_of_ints == [1,2,3,4,5])\n",
    "\n",
    "# using > and < on lists work but they use something called lexical ordering,\n",
    "# which is not super useful most of the time\n",
    "# https://en.wikipedia.org/wiki/Lexicographic_order\n",
    "print(a_list_of_ints < [1,2,3,4,5,6])\n",
    "print(a_list_of_ints > [100])"
   ]
  },
  {
   "cell_type": "markdown",
   "metadata": {},
   "source": [
    "### Indexing"
   ]
  },
  {
   "cell_type": "markdown",
   "metadata": {},
   "source": [
    "We access sequences via indexing, or referring to the position of an element in the list. Counterintuitively, computer scientists use \"zero-indexing\", where counting starts at 0 instead of 1. That means the first element of the list is element 0. "
   ]
  },
  {
   "cell_type": "code",
   "execution_count": null,
   "metadata": {},
   "outputs": [],
   "source": [
    "elements = [\"first\", \"second\", \"third\", \"fourth\", \"fifth\"]\n",
    "\n",
    "# square brackets are used to index into a list.\n",
    "element_at_index_0 = elements[0]\n",
    "print(\"at index 0:\", element_at_index_0)\n",
    "\n",
    "element_at_index_1 = elements[1]\n",
    "print(\"at index 1:\", element_at_index_1)\n"
   ]
  },
  {
   "cell_type": "code",
   "execution_count": null,
   "metadata": {},
   "outputs": [],
   "source": [
    "# negative indices count from the end of the list.\n",
    "element_at_index_negative_1 = elements[-1]\n",
    "print(\"at index -1:\", element_at_index_negative_1)\n"
   ]
  },
  {
   "cell_type": "code",
   "execution_count": null,
   "metadata": {},
   "outputs": [],
   "source": [
    "# we can change the value of a list element by using its index\n",
    "elements = [\"first\", \"second\", \"third\", \"fourth\", \"fifth\"]\n",
    "\n",
    "print(\"before\", elements)\n",
    "elements[0] = \"1\"\n",
    "print(\"after\", elements)"
   ]
  },
  {
   "cell_type": "markdown",
   "metadata": {},
   "source": [
    "## For loops"
   ]
  },
  {
   "cell_type": "code",
   "execution_count": null,
   "metadata": {},
   "outputs": [],
   "source": [
    "sequence = [0, 1, 2, 3, 4, 5]\n",
    "\n",
    "# the syntax for for loops looks like this:\n",
    "for i in sequence:\n",
    "    print(i)"
   ]
  },
  {
   "cell_type": "code",
   "execution_count": null,
   "metadata": {},
   "outputs": [],
   "source": [
    "# a common, easier way to write that would be:\n",
    "for i in range(6):\n",
    "    print(i)"
   ]
  }
 ],
 "metadata": {
  "interpreter": {
   "hash": "411198d5bc7eabb382a561a9ebe60c48cf1917e23127c9b679f97103316c7ee5"
  },
  "kernelspec": {
   "display_name": "Python 3.9.5 ('base')",
   "language": "python",
   "name": "python3"
  },
  "language_info": {
   "codemirror_mode": {
    "name": "ipython",
    "version": 3
   },
   "file_extension": ".py",
   "mimetype": "text/x-python",
   "name": "python",
   "nbconvert_exporter": "python",
   "pygments_lexer": "ipython3",
   "version": "3.9.5"
  },
  "orig_nbformat": 4
 },
 "nbformat": 4,
 "nbformat_minor": 2
}
