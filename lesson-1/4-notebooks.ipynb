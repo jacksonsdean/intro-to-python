{
 "cells": [
  {
   "cell_type": "markdown",
   "metadata": {},
   "source": [
    "## Notebooks\n",
    "Notebooks are the most common way to interact with Python in modern data science. They allow for organization of code and separation of the steps of your data analysis pipeline. \n",
    "\n",
    "Don't worry too much about the specific code here, just the concepts related to cells"
   ]
  },
  {
   "cell_type": "code",
   "execution_count": null,
   "metadata": {},
   "outputs": [],
   "source": [
    "# Each cell works similarly to python files we have seen before.\n",
    "print(\"Hello World!\")"
   ]
  },
  {
   "cell_type": "markdown",
   "metadata": {},
   "source": [
    "The main benefit of using cells, is that we can run the code in a cell multiple times, without having to re-run the whole file."
   ]
  },
  {
   "cell_type": "code",
   "execution_count": null,
   "metadata": {},
   "outputs": [],
   "source": [
    "# This cell only needs to run once\n",
    "# don't worry about the specifics of the code below.\n",
    "# import and define functions\n",
    "import pip\n",
    "pip.main(['install', 'matplotlib'])\n",
    "import matplotlib.pyplot as plt\n",
    "import random\n",
    "\n",
    "\n",
    "# define a function to plot a scatter plot\n",
    "def plot_scatter(X, Y, title):\n",
    "    plt.scatter(X, Y)\n",
    "    plt.title(title)\n",
    "    plt.xlabel(\"X values\")\n",
    "    plt.ylabel(\"Y values\")\n",
    "    plt.show()\n",
    "\n",
    "# define a function to plot a 2D histogram\n",
    "def plot_histogram(X, Y, title):\n",
    "    plt.hist2d(X, Y)\n",
    "    plt.title(title)\n",
    "    plt.xlabel(\"X values\")\n",
    "    plt.ylabel(\"Y values\")\n",
    "    plt.show()"
   ]
  },
  {
   "cell_type": "code",
   "execution_count": null,
   "metadata": {},
   "outputs": [],
   "source": [
    "# Generate data, running this cell multiple times will generate different data\n",
    "X = range(100)\n",
    "Y = [x +random.randint(-100, 100)*(20+x) for x in X] # this is a fancy way to generate a distribution of random numbers"
   ]
  },
  {
   "cell_type": "code",
   "execution_count": null,
   "metadata": {},
   "outputs": [],
   "source": [
    "# The cells above this cell have to be run before this cell\n",
    "# otherwise, X and Y will be undefined\n",
    "\n",
    "# Plot data\n",
    "plot_scatter(X, Y, \"Random Numbers\")\n",
    "\n",
    "# re-running this cell without re-running the cells above will plot the same data\n",
    "# try changing plot_scatter to plot_histogram with the same data\n",
    "\n",
    "# also try generating new data by running the cell above again, and see what happens when you run this one afterwards"
   ]
  }
 ],
 "metadata": {
  "interpreter": {
   "hash": "411198d5bc7eabb382a561a9ebe60c48cf1917e23127c9b679f97103316c7ee5"
  },
  "kernelspec": {
   "display_name": "Python 3.9.5 ('base')",
   "language": "python",
   "name": "python3"
  },
  "language_info": {
   "codemirror_mode": {
    "name": "ipython",
    "version": 3
   },
   "file_extension": ".py",
   "mimetype": "text/x-python",
   "name": "python",
   "nbconvert_exporter": "python",
   "pygments_lexer": "ipython3",
   "version": "3.9.5"
  },
  "orig_nbformat": 4
 },
 "nbformat": 4,
 "nbformat_minor": 2
}
