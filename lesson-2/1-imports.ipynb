{
 "cells": [
  {
   "cell_type": "markdown",
   "metadata": {},
   "source": [
    "Python has a lot of features \"**built-in**\", but if we want to do more specific tasks, we need to \"**import**\" libraries called *packages*."
   ]
  },
  {
   "cell_type": "markdown",
   "metadata": {},
   "source": [
    "Before importing a package, we need to download it. We can do this by using the command `pip install <package_name>`. Or  `conda install <package_name> -c <chanel_name>`. For a graphical way to install packages, we can use Anaconda Navigator. Some packages are pre-installed with Python, so we don't need to install them."
   ]
  },
  {
   "cell_type": "markdown",
   "metadata": {},
   "source": [
    "Importing is done via the `import` keyword. "
   ]
  },
  {
   "cell_type": "code",
   "execution_count": null,
   "metadata": {},
   "outputs": [],
   "source": [
    "import random"
   ]
  },
  {
   "cell_type": "markdown",
   "metadata": {},
   "source": [
    "We can also import a specific part of a package using the `from` keyword."
   ]
  },
  {
   "cell_type": "code",
   "execution_count": null,
   "metadata": {},
   "outputs": [],
   "source": [
    "from numpy.random import normal"
   ]
  },
  {
   "cell_type": "markdown",
   "metadata": {},
   "source": [
    "We can also name the imported package or package-part using the `as` keyword."
   ]
  },
  {
   "cell_type": "code",
   "execution_count": null,
   "metadata": {},
   "outputs": [],
   "source": [
    "import numpy as np\n",
    "import matplotlib.pyplot as plt"
   ]
  },
  {
   "cell_type": "code",
   "execution_count": null,
   "metadata": {},
   "outputs": [],
   "source": [
    "random_number = randint(1, 10) # we don't need to use the dot notation\n",
    "print(\"A random number:\", random_number)"
   ]
  },
  {
   "cell_type": "markdown",
   "metadata": {},
   "source": [
    "Now we can use the imported packages!"
   ]
  },
  {
   "cell_type": "code",
   "execution_count": null,
   "metadata": {},
   "outputs": [],
   "source": [
    "# let's plot a normal distribution\n",
    "# More info here: https://numpy.org/doc/stable/reference/random/generated/numpy.random.normal.html\n",
    "\n",
    "mu, sigma = 0, 0.1 # mean and standard deviation\n",
    "\n",
    "distribution = normal(mu, sigma, size=5000) \n",
    "\n",
    "# add a title\n",
    "plt.title(\"Gaussian distribution\")\n",
    "\n",
    "# plot the distribution as a histogram\n",
    "count, bins, ignored = plt.hist(distribution, 30, density=True)\n",
    "\n",
    "# plot the gaussian distribution\n",
    "plt.plot(bins, 1/(sigma * np.sqrt(2 * np.pi)) *\n",
    "               np.exp( - (bins - mu)**2 / (2 * sigma**2) ),\n",
    "         linewidth=2, color='r')\n",
    "\n",
    "# show the plot!\n",
    "plt.show()"
   ]
  },
  {
   "cell_type": "markdown",
   "metadata": {},
   "source": [
    "There's a package called [`seaborn`](https://seaborn.pydata.org/), which is a library built on top of matplotlib. It's a great way to visualize data and looks a bit nicer than matplotlib on it's own.\n",
    "\n",
    "Seaborn has a function called displot, which does what we did above, but all in one line of code. We can use displot(distribution, kde=True) to get a really nice looking plot really fast.\n",
    "\n",
    "Try to import seaborn and use displot below."
   ]
  },
  {
   "cell_type": "code",
   "execution_count": null,
   "metadata": {},
   "outputs": [],
   "source": [
    "# use the import keyword to import seaborn\n",
    "...\n",
    "\n",
    "# here's a new distribution to plot\n",
    "distribution = normal(mu, 10.0, size=5000) \n",
    "\n",
    "# use distplot to plot the distribution. pass kde=True to plot a kernel density estimate as well\n",
    "..."
   ]
  }
 ],
 "metadata": {
  "interpreter": {
   "hash": "f445f5e3151e12de572d6044d292a96d2963980967ced056e13cb018390e5303"
  },
  "kernelspec": {
   "display_name": "Python 3.10.4 ('intro')",
   "language": "python",
   "name": "python3"
  },
  "language_info": {
   "codemirror_mode": {
    "name": "ipython",
    "version": 3
   },
   "file_extension": ".py",
   "mimetype": "text/x-python",
   "name": "python",
   "nbconvert_exporter": "python",
   "pygments_lexer": "ipython3",
   "version": "3.10.4"
  },
  "orig_nbformat": 4
 },
 "nbformat": 4,
 "nbformat_minor": 2
}
